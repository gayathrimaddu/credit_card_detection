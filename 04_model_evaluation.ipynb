
# Credit Card Fraud Detection - Model Evaluation

import pandas as pd
import numpy as np
import joblib
from sklearn.metrics import classification_report, roc_auc_score, confusion_matrix
import seaborn as sns
import matplotlib.pyplot as plt

# Load model and data
model = joblib.load('../models/fraud_detection_model.pkl')
df = pd.read_csv('../data/creditcard.csv')

# Define features and target
X = df.drop('Class', axis=1)
y = df['Class']

# Split data
from sklearn.model_selection import train_test_split
X_train, X_test, y_train, y_test = train_test_split(X, y, test_size=0.2, random_state=42, stratify=y)

# Model predictions
y_pred = model.predict(X_test)

# Evaluation metrics
print('ROC-AUC Score:', roc_auc_score(y_test, y_pred))
print(classification_report(y_test, y_pred))

# Confusion matrix
conf_matrix = confusion_matrix(y_test, y_pred)
plt.figure(figsize=(6, 4))
sns.heatmap(conf_matrix, annot=True, fmt='d', cmap='Blues')
plt.title('Confusion Matrix')
plt.ylabel('Actual')
plt.xlabel('Predicted')
plt.show()
