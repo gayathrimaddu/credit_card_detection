
# Credit Card Fraud Detection - Data Exploration

import pandas as pd
import seaborn as sns
import matplotlib.pyplot as plt

# Load dataset
df = pd.read_csv('../data/creditcard.csv')

# Basic info and statistics
print(df.info())
print(df.describe())

# Class distribution
sns.countplot(x='Class', data=df)
plt.title('Class Distribution')
plt.show()

# Correlation heatmap
plt.figure(figsize=(12, 8))
sns.heatmap(df.corr(), cmap='coolwarm', annot=False)
plt.title('Feature Correlation Heatmap')
plt.show()
